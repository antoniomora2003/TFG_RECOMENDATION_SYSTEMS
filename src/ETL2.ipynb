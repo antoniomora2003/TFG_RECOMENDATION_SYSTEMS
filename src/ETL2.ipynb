{
 "cells": [
  {
   "cell_type": "code",
   "execution_count": null,
   "id": "a857f660",
   "metadata": {},
   "outputs": [],
   "source": [
    "import pandas as pd"
   ]
  },
  {
   "cell_type": "code",
   "execution_count": 1,
   "id": "bd12c91a",
   "metadata": {},
   "outputs": [],
   "source": [
    "############# Vamos a obtener los datos asociados a cada uno de los ############# "
   ]
  },
  {
   "cell_type": "code",
   "execution_count": null,
   "id": "d05557f2",
   "metadata": {},
   "outputs": [],
   "source": [
    "london_df = pd.read_csv()"
   ]
  }
 ],
 "metadata": {
  "kernelspec": {
   "display_name": "base",
   "language": "python",
   "name": "python3"
  },
  "language_info": {
   "codemirror_mode": {
    "name": "ipython",
    "version": 3
   },
   "file_extension": ".py",
   "mimetype": "text/x-python",
   "name": "python",
   "nbconvert_exporter": "python",
   "pygments_lexer": "ipython3",
   "version": "3.12.5"
  }
 },
 "nbformat": 4,
 "nbformat_minor": 5
}
